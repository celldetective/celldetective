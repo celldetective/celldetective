{
 "cells": [
  {
   "cell_type": "code",
   "execution_count": 1,
   "id": "6d511c7f",
   "metadata": {},
   "outputs": [],
   "source": [
    "from celldetective.segmentation import segment_at_position"
   ]
  },
  {
   "cell_type": "code",
   "execution_count": 18,
   "id": "f343ff0b",
   "metadata": {},
   "outputs": [
    {
     "name": "stdout",
     "output_type": "stream",
     "text": [
      "python /home/limozin/Documents/GitHub/celldetective/celldetective/scripts/segment.py --pos /home/limozin/Desktop/hide/MinimumAdhesion/W8/800/ --model mice_t_cell_RICM --mode target --use_gpu True\n"
     ]
    }
   ],
   "source": [
    "segment_at_position('/home/limozin/Desktop/hide/MinimumAdhesion/W8/800/','target','mice_t_cell_RICM')"
   ]
  },
  {
   "cell_type": "code",
   "execution_count": null,
   "id": "b433a55c",
   "metadata": {},
   "outputs": [],
   "source": []
  }
 ],
 "metadata": {
  "kernelspec": {
   "display_name": "Python 3",
   "language": "python",
   "name": "python3"
  },
  "language_info": {
   "codemirror_mode": {
    "name": "ipython",
    "version": 3
   },
   "file_extension": ".py",
   "mimetype": "text/x-python",
   "name": "python",
   "nbconvert_exporter": "python",
   "pygments_lexer": "ipython3",
   "version": "3.8.10"
  },
  "toc": {
   "base_numbering": 1,
   "nav_menu": {},
   "number_sections": true,
   "sideBar": true,
   "skip_h1_title": false,
   "title_cell": "Table of Contents",
   "title_sidebar": "Contents",
   "toc_cell": false,
   "toc_position": {},
   "toc_section_display": true,
   "toc_window_display": false
  }
 },
 "nbformat": 4,
 "nbformat_minor": 5
}
